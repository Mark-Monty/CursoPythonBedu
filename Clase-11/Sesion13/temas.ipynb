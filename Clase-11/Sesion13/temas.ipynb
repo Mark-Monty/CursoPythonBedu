{
 "cells": [
  {
   "cell_type": "markdown",
   "metadata": {},
   "source": [
    "# Sesión 13"
   ]
  },
  {
   "cell_type": "markdown",
   "metadata": {},
   "source": [
    "## Configurando Apache en CentOS para ejecutar aplicaciones Python con WSGI\n",
    "\n",
    "[CentOS + WSGI + Python + Bottle](CentOS-WSGI-Python-Bottle.ipynb)"
   ]
  },
  {
   "cell_type": "markdown",
   "metadata": {},
   "source": [
    "## Creando una API para administrar documentos PDF y autores con Django\n",
    "\n",
    "[Django + DjangoRest + API + PDF + Autores](Django-API-PDF-Autores.ipynb)"
   ]
  },
  {
   "cell_type": "markdown",
   "metadata": {},
   "source": [
    "# GRACIAS\n",
    "\n",
    "- Ricardo Torres <rictor@cuhrt.com>\n",
    "- Telegram: https://t.me/rctorr\n",
    "- Twitter: @rctorr\n",
    "- Github: https://github.com/rctorr\n",
    "- Blog: http://rctorr.wordpress.com\n",
    "- Tumblr: https://rctorr.tumblr.com\n",
    "- Codepen: https://codepen.io/rctorr\n",
    "\n",
    "http://goo.gl/p3t34 <- Evaluación"
   ]
  },
  {
   "cell_type": "code",
   "execution_count": null,
   "metadata": {},
   "outputs": [],
   "source": []
  }
 ],
 "metadata": {
  "kernelspec": {
   "display_name": "Python 3",
   "language": "python",
   "name": "python3"
  },
  "language_info": {
   "codemirror_mode": {
    "name": "ipython",
    "version": 3
   },
   "file_extension": ".py",
   "mimetype": "text/x-python",
   "name": "python",
   "nbconvert_exporter": "python",
   "pygments_lexer": "ipython3",
   "version": "3.6.5"
  }
 },
 "nbformat": 4,
 "nbformat_minor": 2
}
